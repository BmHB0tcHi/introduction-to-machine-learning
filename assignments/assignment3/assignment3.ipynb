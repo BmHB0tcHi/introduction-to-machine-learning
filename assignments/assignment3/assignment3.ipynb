{
 "cells": [
  {
   "cell_type": "markdown",
   "metadata": {},
   "source": [
    "# Assignment 3\n",
    "\n",
    "(╯°□°)╯︵◓\n",
    "\n",
    "You've been search far and wide, but you're still trying to understand the power that's inside. This time round though, you're armed with new weapons: supervised learning algorithms. Pokemons will have no more secrets after you analyse the pokedex!\n",
    "\n",
    "The data can be found under `pokedex/pokemons.csv`, and is the same as assignment 1 & 2. Run the cell below to get an overview of the dataset:"
   ]
  },
  {
   "cell_type": "code",
   "execution_count": null,
   "metadata": {},
   "outputs": [],
   "source": [
    "import pandas as pd\n",
    "import numpy as np\n",
    "\n",
    "df = pd.read_csv('pokedex/pokemons.csv')\n",
    "df.head()"
   ]
  },
  {
   "cell_type": "markdown",
   "metadata": {},
   "source": [
    "## Problem 1"
   ]
  },
  {
   "cell_type": "markdown",
   "metadata": {},
   "source": [
    "A crucial statistic in pokemon battles is `HP`. This is the amount of damage you have to inflict to your opponent to win the fight, so being able to _predict_ this amount would be an enormous advantage 👊.\n",
    "\n",
    "💪 **Task: Train a linear regression model which predicts the label `HP`.**\n",
    "- use `Attack`, `Defense`, `Sp. Atk`, `Sp. Def`, and `Speed` as features\n",
    "- use `HP` as label\n",
    "- scale the features using standardization before you train the model\n",
    "- store your trained model in a variable called `reg`"
   ]
  },
  {
   "cell_type": "code",
   "execution_count": null,
   "metadata": {},
   "outputs": [],
   "source": [
    "# INSERT YOUR CODE HERE"
   ]
  },
  {
   "cell_type": "code",
   "execution_count": null,
   "metadata": {},
   "outputs": [],
   "source": [
    "import math\n",
    "\n",
    "def test_regression():\n",
    "    assert reg, \"Can't find reg, have you used the correct variable name for your model?\"\n",
    "    assert math.isclose(reg.coef_.sum(), 15.20036, rel_tol=1e-6), \"Your model parameters don't look quite right\"\n",
    "    print('Success! 🎉')\n",
    "\n",
    "test_regression()"
   ]
  },
  {
   "cell_type": "markdown",
   "metadata": {},
   "source": [
    "🧠 **Task: List and describe the main steps that happen during your linear regression model's _training_ , i.e inside of sklearn's `.fit()` method.**\n",
    "\n",
    "🧠 **Task: Explain the purpose of feature scaling, and why it's a good idea to use it here.**\n",
    "\n",
    "🧠 **Bonus Task: Can you list other feature scaling methods?**"
   ]
  },
  {
   "cell_type": "markdown",
   "metadata": {},
   "source": [
    "## Problem 2\n",
    "\n",
    "You encounter an unknown pokemon, and it looks very strong. 🙀 Use your `HP` regression model to see if you can take it on!\n",
    "\n",
    "💪 **Task: Predict the `HP` of an unknown pokemon using your linear regression model.**\n",
    "- the stats of the unknown pokemon are found below\n",
    "- predict using your trained model, `reg`\n",
    "- store the prediction in a variable called `y_predict`\n"
   ]
  },
  {
   "cell_type": "code",
   "execution_count": null,
   "metadata": {},
   "outputs": [],
   "source": [
    "attack = 79\n",
    "defense = 109\n",
    "sp_atk = 73\n",
    "sp_def = 84\n",
    "speed = 68\n",
    "\n",
    "# INSERT YOUR CODE HERE "
   ]
  },
  {
   "cell_type": "code",
   "execution_count": null,
   "metadata": {},
   "outputs": [],
   "source": [
    "def test_predict_hp():\n",
    "    expected_prediction = 69.551\n",
    "    assert y_predict, f\"Can't find y_predict, have you used the correct variable name?\"\n",
    "    assert math.isclose(y_predict, expected_prediction, rel_tol=1e-4), f'The prediction should be {expected_prediction}, but your model predicted {y_predict}'\n",
    "    print('Success! 🎉')\n",
    "    return\n",
    "\n",
    "test_predict_hp()"
   ]
  },
  {
   "cell_type": "markdown",
   "metadata": {},
   "source": [
    "## Problem 3\n",
    "\n",
    "Professor Oak told you about a rare breed of exceptionally powerful pokemon... the _legendary_ pokemon. A trainer who finds and captures a legendary pokemon is sure to become invicible!\n",
    "\n",
    "💪 **Task: Train a logistic regression model which predicts if pokemons are `Legendary`.**\n",
    "- use `HP`, `Attack`, `Defense`, `Sp. Atk`, `Sp. Def`, and `Speed` as features\n",
    "- use `Legendary` as label\n",
    "- scale the features using standardization before you train the model\n",
    "- store your trained model in a variable called `clf`"
   ]
  },
  {
   "cell_type": "code",
   "execution_count": null,
   "metadata": {},
   "outputs": [],
   "source": [
    "# INSERT YOUR CODE HERE"
   ]
  },
  {
   "cell_type": "code",
   "execution_count": null,
   "metadata": {},
   "outputs": [],
   "source": [
    "def test_regression():\n",
    "    assert clf, \"Can't find clf, have you used the correct variable name for your model?\"\n",
    "    assert math.isclose(clf.coef_.sum(), 5.80924, rel_tol=1e-5), \"Your model parameters don't look quite right\"\n",
    "    print('Success! 🎉')\n",
    "    return\n",
    "\n",
    "test_regression()"
   ]
  },
  {
   "cell_type": "markdown",
   "metadata": {},
   "source": [
    "🧠 **Task: What are the differences between logistic regression and linear regression?**"
   ]
  },
  {
   "cell_type": "markdown",
   "metadata": {},
   "source": [
    "## Problem 4\n",
    "\n",
    "Finding legendary pokemons is no easy task, and we expect that we need a more _powerful_ model to accurately predict them.\n",
    "\n",
    "💪 **Task: Train a logistic regression model with polynomial features and regularization which predicts if pokemons are Legendary.**\n",
    "- use `HP`, `Attack`, `Defense`, `Sp. Atk`, `Sp. Def`, and `Speed` as features\n",
    "- use `Legendary` as label\n",
    "- add polynomial features of degree 3\n",
    "- scale the features using standardization before you train the model\n",
    "- use ridge logistic regression to regularize your model\n",
    "- store your trained model in a variable called `clf`  \n",
    "Pro-tip: [RidgeClassifier](https://scikit-learn.org/stable/modules/generated/sklearn.linear_model.RidgeClassifier.html)"
   ]
  },
  {
   "cell_type": "code",
   "execution_count": null,
   "metadata": {},
   "outputs": [],
   "source": [
    "# INSERT YOUR CODE HERE"
   ]
  },
  {
   "cell_type": "code",
   "execution_count": null,
   "metadata": {},
   "outputs": [],
   "source": [
    "def test_regression():\n",
    "    assert clf, \"Can't find clf, have you used the correct variable name for your model?\"\n",
    "    assert math.isclose(clf.coef_.sum(), 0.37331, rel_tol=1e-5), \"Your model parameters don't look quite right\"\n",
    "    print('Success! 🎉')\n",
    "    return\n",
    "\n",
    "test_regression()"
   ]
  },
  {
   "cell_type": "markdown",
   "metadata": {},
   "source": [
    "🧠 **Task: How do polynomial features make our model more powerful?**\n",
    "\n",
    "🧠 **Task: What is the purpose of regularization? Why is it a good idea to use it here?**\n",
    "\n",
    "🧠 **Bonus Task: Can you cite other regularization methods?**\n",
    "\n",
    "💪 **Bonus Task: Train the exact same regularized logistic regression model with polynomial features, but this time, chain your preprocessors and your model into a [Pipeline](https://scikit-learn.org/stable/modules/generated/sklearn.pipeline.Pipeline.html)**"
   ]
  },
  {
   "cell_type": "markdown",
   "metadata": {},
   "source": [
    "## Problem 5\n",
    "\n",
    "You are travelling across the land, when you spot a large rainbow bird in the sky. Maybe it's a legendary pokemon! Let's check with our freshly trained regularized polynomial classifier.\n",
    "\n",
    "💪 **Task: Predict if the rainbow bird is a legendary pokemon using your classifier.**\n",
    "- the stats of the rainbow bird pokemon are found below\n",
    "- predict using your trained model, `clf`\n",
    "- store the prediction in a variable called `y_predict`"
   ]
  },
  {
   "cell_type": "code",
   "execution_count": null,
   "metadata": {},
   "outputs": [],
   "source": [
    "hp = 106\n",
    "attack = 130\n",
    "defense = 90\n",
    "sp_atk = 110\n",
    "sp_def = 154\n",
    "speed = 90\n",
    "\n",
    "# INSERT YOUR CODE HERE"
   ]
  },
  {
   "cell_type": "code",
   "execution_count": null,
   "metadata": {},
   "outputs": [],
   "source": [
    "def test_predict_legendary():\n",
    "    assert y_predict == True, f'The prediction should be {True}, but your model predicted {y_predict}'\n",
    "    print('Success! 🎉')\n",
    "    \n",
    "test_predict_legendary()"
   ]
  }
 ],
 "metadata": {
  "kernelspec": {
   "display_name": "Python 3",
   "language": "python",
   "name": "python3"
  },
  "language_info": {
   "codemirror_mode": {
    "name": "ipython",
    "version": 3
   },
   "file_extension": ".py",
   "mimetype": "text/x-python",
   "name": "python",
   "nbconvert_exporter": "python",
   "pygments_lexer": "ipython3",
   "version": "3.8.2"
  }
 },
 "nbformat": 4,
 "nbformat_minor": 4
}
